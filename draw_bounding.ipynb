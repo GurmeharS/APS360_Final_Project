{
 "cells": [
  {
   "cell_type": "code",
   "execution_count": 100,
   "metadata": {
    "scrolled": true
   },
   "outputs": [],
   "source": [
    "import json\n",
    "import os\n",
    "import re\n",
    "from PIL import Image\n",
    "import cv2\n",
    "import numpy as np\n",
    "from matplotlib import pyplot as plt\n",
    "from pathlib import Path"
   ]
  },
  {
   "cell_type": "code",
   "execution_count": 101,
   "metadata": {},
   "outputs": [],
   "source": [
    "output_dir = './dataset/processed/'\n",
    "\n",
    "# Make sure input_dir has annos and images folder already created with the json files\n",
    "input_dir_img = './dataset/validation/image/'\n",
    "input_dir_annos = './dataset/validation/annos/'\n",
    "\n",
    "categories = [\"trousers\"]"
   ]
  },
  {
   "cell_type": "code",
   "execution_count": 109,
   "metadata": {},
   "outputs": [],
   "source": [
    "# Make directories\n",
    "Path(otuput_dir).mkdir(parents=True, exist_ok=True)\n",
    "for c in categories:\n",
    "    par = output_dir+c+'/'\n",
    "    Path(par).mkdir(parents=True, exist_ok=True)\n",
    "    Path(par+'filtered/').mkdir(parents=True, exist_ok=True)\n",
    "    Path(par+'edges/').mkdir(parents=True, exist_ok=True)"
   ]
  },
  {
   "cell_type": "code",
   "execution_count": 103,
   "metadata": {
    "scrolled": true
   },
   "outputs": [],
   "source": [
    "# Filter if a certain file matches what we need and return it in a dict\n",
    "def process_json(filename, dress_type = \"trousers\"):\n",
    "    global pair_id_processed\n",
    "    matched_files = []\n",
    "    with open(filename) as json_file:\n",
    "        data = json.load(json_file)\n",
    "        \n",
    "        if data[\"source\"] != \"shop\":\n",
    "            return\n",
    "        \n",
    "        for key in data.keys():\n",
    "            if re.match(\"(item)\\d\", key):\n",
    "                visible = True\n",
    "                for i, val in enumerate(data[key][\"landmarks\"]):\n",
    "                    if (i+1)%3 == 0 and val == 0:\n",
    "                        visible = False\n",
    "                        break\n",
    "                if data[\"pair_id\"] not in pair_id_processed and visible and data[key][\"category_name\"] == dress_type:\n",
    "                    matched_files.append({\"json\": data, \"item\": key, \"category_name\":dress_type, \"segmentation\": data[key][\"segmentation\"], \"bounding_box\": data[key][\"bounding_box\"], \"filename\": filename[-11:][:6]})\n",
    "                    pair_id_processed[data[\"pair_id\"]] = True\n",
    "    \n",
    "    return matched_files if len(matched_files) > 0 else None"
   ]
  },
  {
   "cell_type": "code",
   "execution_count": 104,
   "metadata": {
    "scrolled": true
   },
   "outputs": [],
   "source": [
    "# Load the files we are interested in and process them\n",
    "req_file = []\n",
    "pair_id_processed = {}\n",
    "for subdir, dirs, files in os.walk(input_dir_annos):\n",
    "    for file in files:\n",
    "        filepath = subdir + os.sep + file\n",
    "        matches = process_json(filepath)\n",
    "        if matches != None:\n",
    "            req_file.append(matches)\n",
    "    "
   ]
  },
  {
   "cell_type": "code",
   "execution_count": 105,
   "metadata": {
    "scrolled": true
   },
   "outputs": [],
   "source": [
    "def crop_image(path, filename, bounding_box, dress_type, output):\n",
    "    # Bounding box = (left, top, right, bottom)\n",
    "    img = Image.open(path+filename)\n",
    "    img = img.crop((bounding_box[0], bounding_box[1], bounding_box[2], bounding_box[3])) \n",
    "  \n",
    "    # Shows the image in image viewer \n",
    "    img.show() \n",
    "    img.save(output+dress_type+\"/\"+filename, \"JPEG\", quality=100, optimize=True, progressive=True)\n"
   ]
  },
  {
   "cell_type": "code",
   "execution_count": 106,
   "metadata": {},
   "outputs": [],
   "source": [
    "def filter_img_segmentation(img, segmentation):\n",
    "    temp_img = np.zeros(img.shape).astype(img.dtype)\n",
    "    segs = []\n",
    "    segmentation = np.asarray(segmentation)\n",
    "    for i in range(len(segmentation)):\n",
    "        segs.append([])\n",
    "        for j in range(0, len(segmentation[i]), 2):\n",
    "            segs[i].append(np.asarray([int(segmentation[i][j]), int(segmentation[i][j+1])]))\n",
    "            \n",
    "        segs[i] = np.asarray(segs[i])\n",
    "            \n",
    "    cv2.fillPoly(temp_img, np.asarray(segs), [255, 255, 255])\n",
    "    img = cv2.bitwise_and(img, temp_img)\n",
    "    \n",
    "    return img"
   ]
  },
  {
   "cell_type": "code",
   "execution_count": 107,
   "metadata": {
    "scrolled": true
   },
   "outputs": [],
   "source": [
    "for matched_data_arr in req_file:\n",
    "    for data in matched_data_arr:\n",
    "        img = cv2.imread(input_dir_img+data[\"filename\"]+\".jpg\", -1)\n",
    "        img = cv2.cvtColor(img, cv2.COLOR_BGR2RGB)\n",
    "        \n",
    "        # Filter the images\n",
    "        img_filtered = filter_img_segmentation(img, data[\"segmentation\"])\n",
    "        img_filtered = cv2.cvtColor(img_filtered, cv2.COLOR_RGB2BGR)\n",
    "        \n",
    "        # Edge detection\n",
    "        img_edge = cv2.Canny(img_filtered,100,200)\n",
    "        img_edge = cv2.cvtColor(img_edge, cv2.COLOR_RGB2BGR)\n",
    "        \n",
    "        # Crop\n",
    "        img_edge = img_edge[data[\"bounding_box\"][1]:data[\"bounding_box\"][3], data[\"bounding_box\"][0]:data[\"bounding_box\"][2]]\n",
    "        img_filtered = img_filtered[data[\"bounding_box\"][1]:data[\"bounding_box\"][3], data[\"bounding_box\"][0]:data[\"bounding_box\"][2]]\n",
    "        \n",
    "        # Save\n",
    "        cv2.imwrite(output_dir+data[\"category_name\"]+\"/filtered/\"+data[\"filename\"]+\".jpg\", img_filtered)\n",
    "        cv2.imwrite(output_dir+data[\"category_name\"]+\"/edges/\"+data[\"filename\"]+\".jpg\", img_edge)"
   ]
  },
  {
   "cell_type": "code",
   "execution_count": 108,
   "metadata": {
    "scrolled": true
   },
   "outputs": [
    {
     "name": "stdout",
     "output_type": "stream",
     "text": [
      "Averages:  Width: 221.56, Height: 428.07, Ratio (W/H): 0.52\n"
     ]
    }
   ],
   "source": [
    "width_avg, height_avg = 0, 0\n",
    "width_tot, height_tot = 0, 0\n",
    "total = 0\n",
    "for matched_data_arr in req_file:\n",
    "    for data in matched_data_arr:\n",
    "        # (left, top, right, bottom)\n",
    "        width_tot += abs(data[\"bounding_box\"][0] - data[\"bounding_box\"][2])\n",
    "        height_tot += abs(data[\"bounding_box\"][1] - data[\"bounding_box\"][3])\n",
    "        total += 1\n",
    "width_avg = width_tot / total\n",
    "height_avg = height_tot / total\n",
    "print(\"Averages:  Width: {:.2f}, Height: {:.2f}, Ratio (W/H): {:.2f}\".format(width_avg, height_avg, width_avg/height_avg))"
   ]
  }
 ],
 "metadata": {
  "kernelspec": {
   "display_name": "Python 3",
   "language": "python",
   "name": "python3"
  },
  "language_info": {
   "codemirror_mode": {
    "name": "ipython",
    "version": 3
   },
   "file_extension": ".py",
   "mimetype": "text/x-python",
   "name": "python",
   "nbconvert_exporter": "python",
   "pygments_lexer": "ipython3",
   "version": "3.6.10"
  }
 },
 "nbformat": 4,
 "nbformat_minor": 2
}
